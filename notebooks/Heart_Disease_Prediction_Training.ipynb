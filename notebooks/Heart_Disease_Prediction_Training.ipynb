{
  "cells": [
    {
      "cell_type": "code",
      "execution_count": 42,
      "metadata": {
        "id": "qlJ6PGuBsfSZ"
      },
      "outputs": [],
      "source": [
        "import pandas as pd\n",
        "import numpy as np\n",
        "import seaborn as sns\n",
        "import matplotlib.pyplot as plt"
      ]
    },
    {
      "cell_type": "code",
      "execution_count": 43,
      "metadata": {
        "colab": {
          "base_uri": "https://localhost:8080/",
          "height": 105
        },
        "id": "xXNXJpuOsue6",
        "outputId": "a5bd0836-ab89-4577-e413-33040edcd749"
      },
      "outputs": [],
      "source": [
        "# import gdown\n",
        "\n",
        "# file_id = \"1wwt7Pu3PhRel40a3OAlj0Yfkw1HKGtq8\"\n",
        "# url = f\"https://drive.google.com/uc?id={file_id}\"\n",
        "\n",
        "# gdown.download(url, \"../models/data.csv\", quiet=False)"
      ]
    },
    {
      "cell_type": "code",
      "execution_count": 44,
      "metadata": {
        "colab": {
          "base_uri": "https://localhost:8080/",
          "height": 206
        },
        "id": "Ha6D81y4uUkz",
        "outputId": "7eb5492c-be1d-4625-c935-28aa4f5008b9"
      },
      "outputs": [
        {
          "data": {
            "text/html": [
              "<div>\n",
              "<style scoped>\n",
              "    .dataframe tbody tr th:only-of-type {\n",
              "        vertical-align: middle;\n",
              "    }\n",
              "\n",
              "    .dataframe tbody tr th {\n",
              "        vertical-align: top;\n",
              "    }\n",
              "\n",
              "    .dataframe thead th {\n",
              "        text-align: right;\n",
              "    }\n",
              "</style>\n",
              "<table border=\"1\" class=\"dataframe\">\n",
              "  <thead>\n",
              "    <tr style=\"text-align: right;\">\n",
              "      <th></th>\n",
              "      <th>age</th>\n",
              "      <th>sex</th>\n",
              "      <th>cp</th>\n",
              "      <th>trestbps</th>\n",
              "      <th>chol</th>\n",
              "      <th>fbs</th>\n",
              "      <th>restecg</th>\n",
              "      <th>thalach</th>\n",
              "      <th>exang</th>\n",
              "      <th>oldpeak</th>\n",
              "      <th>slope</th>\n",
              "      <th>ca</th>\n",
              "      <th>thal</th>\n",
              "      <th>target</th>\n",
              "    </tr>\n",
              "  </thead>\n",
              "  <tbody>\n",
              "    <tr>\n",
              "      <th>0</th>\n",
              "      <td>63.0</td>\n",
              "      <td>1.0</td>\n",
              "      <td>3.0</td>\n",
              "      <td>145.0</td>\n",
              "      <td>233.0</td>\n",
              "      <td>1.0</td>\n",
              "      <td>0.0</td>\n",
              "      <td>150.0</td>\n",
              "      <td>0</td>\n",
              "      <td>2.3</td>\n",
              "      <td>0</td>\n",
              "      <td>0.0</td>\n",
              "      <td>1.0</td>\n",
              "      <td>1</td>\n",
              "    </tr>\n",
              "    <tr>\n",
              "      <th>1</th>\n",
              "      <td>37.0</td>\n",
              "      <td>1.0</td>\n",
              "      <td>2.0</td>\n",
              "      <td>130.0</td>\n",
              "      <td>250.0</td>\n",
              "      <td>0.0</td>\n",
              "      <td>1.0</td>\n",
              "      <td>187.0</td>\n",
              "      <td>0</td>\n",
              "      <td>3.5</td>\n",
              "      <td>0</td>\n",
              "      <td>0.0</td>\n",
              "      <td>2.0</td>\n",
              "      <td>1</td>\n",
              "    </tr>\n",
              "    <tr>\n",
              "      <th>2</th>\n",
              "      <td>41.0</td>\n",
              "      <td>0.0</td>\n",
              "      <td>1.0</td>\n",
              "      <td>130.0</td>\n",
              "      <td>204.0</td>\n",
              "      <td>0.0</td>\n",
              "      <td>0.0</td>\n",
              "      <td>172.0</td>\n",
              "      <td>0</td>\n",
              "      <td>1.4</td>\n",
              "      <td>2</td>\n",
              "      <td>0.0</td>\n",
              "      <td>2.0</td>\n",
              "      <td>1</td>\n",
              "    </tr>\n",
              "    <tr>\n",
              "      <th>3</th>\n",
              "      <td>56.0</td>\n",
              "      <td>1.0</td>\n",
              "      <td>1.0</td>\n",
              "      <td>120.0</td>\n",
              "      <td>236.0</td>\n",
              "      <td>0.0</td>\n",
              "      <td>1.0</td>\n",
              "      <td>178.0</td>\n",
              "      <td>0</td>\n",
              "      <td>0.8</td>\n",
              "      <td>2</td>\n",
              "      <td>0.0</td>\n",
              "      <td>2.0</td>\n",
              "      <td>1</td>\n",
              "    </tr>\n",
              "    <tr>\n",
              "      <th>4</th>\n",
              "      <td>54.4</td>\n",
              "      <td>0.0</td>\n",
              "      <td>0.0</td>\n",
              "      <td>120.0</td>\n",
              "      <td>354.0</td>\n",
              "      <td>0.0</td>\n",
              "      <td>1.0</td>\n",
              "      <td>163.0</td>\n",
              "      <td>1</td>\n",
              "      <td>0.6</td>\n",
              "      <td>2</td>\n",
              "      <td>0.0</td>\n",
              "      <td>2.0</td>\n",
              "      <td>1</td>\n",
              "    </tr>\n",
              "  </tbody>\n",
              "</table>\n",
              "</div>"
            ],
            "text/plain": [
              "    age  sex   cp  trestbps   chol  fbs  restecg  thalach  exang  oldpeak  \\\n",
              "0  63.0  1.0  3.0     145.0  233.0  1.0      0.0    150.0      0      2.3   \n",
              "1  37.0  1.0  2.0     130.0  250.0  0.0      1.0    187.0      0      3.5   \n",
              "2  41.0  0.0  1.0     130.0  204.0  0.0      0.0    172.0      0      1.4   \n",
              "3  56.0  1.0  1.0     120.0  236.0  0.0      1.0    178.0      0      0.8   \n",
              "4  54.4  0.0  0.0     120.0  354.0  0.0      1.0    163.0      1      0.6   \n",
              "\n",
              "   slope   ca  thal  target  \n",
              "0      0  0.0   1.0       1  \n",
              "1      0  0.0   2.0       1  \n",
              "2      2  0.0   2.0       1  \n",
              "3      2  0.0   2.0       1  \n",
              "4      2  0.0   2.0       1  "
            ]
          },
          "execution_count": 44,
          "metadata": {},
          "output_type": "execute_result"
        }
      ],
      "source": [
        "data = pd.read_csv(\"../data/cleaned_data.csv\")\n",
        "data.head()"
      ]
    },
    {
      "cell_type": "code",
      "execution_count": 45,
      "metadata": {
        "id": "BN1xVjsfv0LT"
      },
      "outputs": [],
      "source": [
        "x = data.drop('target', axis=1)\n",
        "y = data['target']"
      ]
    },
    {
      "cell_type": "code",
      "execution_count": 46,
      "metadata": {
        "colab": {
          "base_uri": "https://localhost:8080/",
          "height": 206
        },
        "id": "y8Mzigu5OUIu",
        "outputId": "9f89a97b-b97c-4e0b-819b-aed9f20ae88f"
      },
      "outputs": [
        {
          "data": {
            "text/html": [
              "<div>\n",
              "<style scoped>\n",
              "    .dataframe tbody tr th:only-of-type {\n",
              "        vertical-align: middle;\n",
              "    }\n",
              "\n",
              "    .dataframe tbody tr th {\n",
              "        vertical-align: top;\n",
              "    }\n",
              "\n",
              "    .dataframe thead th {\n",
              "        text-align: right;\n",
              "    }\n",
              "</style>\n",
              "<table border=\"1\" class=\"dataframe\">\n",
              "  <thead>\n",
              "    <tr style=\"text-align: right;\">\n",
              "      <th></th>\n",
              "      <th>age</th>\n",
              "      <th>sex</th>\n",
              "      <th>cp</th>\n",
              "      <th>trestbps</th>\n",
              "      <th>chol</th>\n",
              "      <th>fbs</th>\n",
              "      <th>restecg</th>\n",
              "      <th>thalach</th>\n",
              "      <th>exang</th>\n",
              "      <th>oldpeak</th>\n",
              "      <th>slope</th>\n",
              "      <th>ca</th>\n",
              "      <th>thal</th>\n",
              "    </tr>\n",
              "  </thead>\n",
              "  <tbody>\n",
              "    <tr>\n",
              "      <th>0</th>\n",
              "      <td>63.0</td>\n",
              "      <td>1.0</td>\n",
              "      <td>3.0</td>\n",
              "      <td>145.0</td>\n",
              "      <td>233.0</td>\n",
              "      <td>1.0</td>\n",
              "      <td>0.0</td>\n",
              "      <td>150.0</td>\n",
              "      <td>0</td>\n",
              "      <td>2.3</td>\n",
              "      <td>0</td>\n",
              "      <td>0.0</td>\n",
              "      <td>1.0</td>\n",
              "    </tr>\n",
              "    <tr>\n",
              "      <th>1</th>\n",
              "      <td>37.0</td>\n",
              "      <td>1.0</td>\n",
              "      <td>2.0</td>\n",
              "      <td>130.0</td>\n",
              "      <td>250.0</td>\n",
              "      <td>0.0</td>\n",
              "      <td>1.0</td>\n",
              "      <td>187.0</td>\n",
              "      <td>0</td>\n",
              "      <td>3.5</td>\n",
              "      <td>0</td>\n",
              "      <td>0.0</td>\n",
              "      <td>2.0</td>\n",
              "    </tr>\n",
              "    <tr>\n",
              "      <th>2</th>\n",
              "      <td>41.0</td>\n",
              "      <td>0.0</td>\n",
              "      <td>1.0</td>\n",
              "      <td>130.0</td>\n",
              "      <td>204.0</td>\n",
              "      <td>0.0</td>\n",
              "      <td>0.0</td>\n",
              "      <td>172.0</td>\n",
              "      <td>0</td>\n",
              "      <td>1.4</td>\n",
              "      <td>2</td>\n",
              "      <td>0.0</td>\n",
              "      <td>2.0</td>\n",
              "    </tr>\n",
              "    <tr>\n",
              "      <th>3</th>\n",
              "      <td>56.0</td>\n",
              "      <td>1.0</td>\n",
              "      <td>1.0</td>\n",
              "      <td>120.0</td>\n",
              "      <td>236.0</td>\n",
              "      <td>0.0</td>\n",
              "      <td>1.0</td>\n",
              "      <td>178.0</td>\n",
              "      <td>0</td>\n",
              "      <td>0.8</td>\n",
              "      <td>2</td>\n",
              "      <td>0.0</td>\n",
              "      <td>2.0</td>\n",
              "    </tr>\n",
              "    <tr>\n",
              "      <th>4</th>\n",
              "      <td>54.4</td>\n",
              "      <td>0.0</td>\n",
              "      <td>0.0</td>\n",
              "      <td>120.0</td>\n",
              "      <td>354.0</td>\n",
              "      <td>0.0</td>\n",
              "      <td>1.0</td>\n",
              "      <td>163.0</td>\n",
              "      <td>1</td>\n",
              "      <td>0.6</td>\n",
              "      <td>2</td>\n",
              "      <td>0.0</td>\n",
              "      <td>2.0</td>\n",
              "    </tr>\n",
              "  </tbody>\n",
              "</table>\n",
              "</div>"
            ],
            "text/plain": [
              "    age  sex   cp  trestbps   chol  fbs  restecg  thalach  exang  oldpeak  \\\n",
              "0  63.0  1.0  3.0     145.0  233.0  1.0      0.0    150.0      0      2.3   \n",
              "1  37.0  1.0  2.0     130.0  250.0  0.0      1.0    187.0      0      3.5   \n",
              "2  41.0  0.0  1.0     130.0  204.0  0.0      0.0    172.0      0      1.4   \n",
              "3  56.0  1.0  1.0     120.0  236.0  0.0      1.0    178.0      0      0.8   \n",
              "4  54.4  0.0  0.0     120.0  354.0  0.0      1.0    163.0      1      0.6   \n",
              "\n",
              "   slope   ca  thal  \n",
              "0      0  0.0   1.0  \n",
              "1      0  0.0   2.0  \n",
              "2      2  0.0   2.0  \n",
              "3      2  0.0   2.0  \n",
              "4      2  0.0   2.0  "
            ]
          },
          "execution_count": 46,
          "metadata": {},
          "output_type": "execute_result"
        }
      ],
      "source": [
        "x.head()"
      ]
    },
    {
      "cell_type": "code",
      "execution_count": 47,
      "metadata": {
        "colab": {
          "base_uri": "https://localhost:8080/",
          "height": 241
        },
        "id": "5J2vqzKrOV3E",
        "outputId": "539d5907-77b0-46d4-9bb5-48824146d280"
      },
      "outputs": [
        {
          "data": {
            "text/plain": [
              "0    1\n",
              "1    1\n",
              "2    1\n",
              "3    1\n",
              "4    1\n",
              "Name: target, dtype: int64"
            ]
          },
          "execution_count": 47,
          "metadata": {},
          "output_type": "execute_result"
        }
      ],
      "source": [
        "y.head()"
      ]
    },
    {
      "cell_type": "code",
      "execution_count": 48,
      "metadata": {
        "id": "EoF8i7vFwl9D"
      },
      "outputs": [],
      "source": [
        "from sklearn.model_selection import train_test_split\n",
        "\n",
        "xTrain, xTest, yTrain, yTest = train_test_split(x, y, test_size=0.15, random_state=1)"
      ]
    },
    {
      "cell_type": "code",
      "execution_count": 49,
      "metadata": {
        "colab": {
          "base_uri": "https://localhost:8080/"
        },
        "id": "yVPzGETGyYR_",
        "outputId": "503bb7d7-7fbb-4d4d-e740-efab27358615"
      },
      "outputs": [
        {
          "name": "stdout",
          "output_type": "stream",
          "text": [
            "train set: 256\n",
            "train set: 46\n"
          ]
        }
      ],
      "source": [
        "print(f'train set: {len(xTrain)}')\n",
        "print(f'train set: {len(xTest)}')"
      ]
    },
    {
      "cell_type": "code",
      "execution_count": 50,
      "metadata": {
        "id": "zTCyH7tKIHmh"
      },
      "outputs": [],
      "source": [
        "from sklearn.preprocessing import StandardScaler\n",
        "\n",
        "needingScalingColumns = ['age', 'trestbps', 'chol', 'thalach', 'oldpeak']\n",
        "scaler = StandardScaler()\n",
        "xTrain[needingScalingColumns] = scaler.fit_transform(xTrain[needingScalingColumns])\n",
        "xTest[needingScalingColumns] = scaler.transform(xTest[needingScalingColumns])\n"
      ]
    },
    {
      "cell_type": "code",
      "execution_count": 51,
      "metadata": {
        "colab": {
          "base_uri": "https://localhost:8080/"
        },
        "id": "VZ9nYb2rWmgW",
        "outputId": "77c29e37-c469-4c53-e74a-c543aaf5e367"
      },
      "outputs": [
        {
          "data": {
            "text/plain": [
              "['../models/scaler.pkl']"
            ]
          },
          "execution_count": 51,
          "metadata": {},
          "output_type": "execute_result"
        }
      ],
      "source": [
        "import joblib\n",
        "\n",
        "joblib.dump(scaler, '../models/scaler.pkl')"
      ]
    },
    {
      "cell_type": "code",
      "execution_count": 52,
      "metadata": {
        "colab": {
          "base_uri": "https://localhost:8080/"
        },
        "id": "FA08kR9TJBiX",
        "outputId": "d450fcbe-19c1-4490-b068-c2c3ae2cf748"
      },
      "outputs": [
        {
          "name": "stdout",
          "output_type": "stream",
          "text": [
            "🔍 Logistic Regression\n",
            "Accuracy: 0.782608695652174\n",
            "Confusion Matrix:\n",
            " [[15  7]\n",
            " [ 3 21]]\n",
            "Classification Report:\n",
            "               precision    recall  f1-score   support\n",
            "\n",
            "           0       0.83      0.68      0.75        22\n",
            "           1       0.75      0.88      0.81        24\n",
            "\n",
            "    accuracy                           0.78        46\n",
            "   macro avg       0.79      0.78      0.78        46\n",
            "weighted avg       0.79      0.78      0.78        46\n",
            "\n"
          ]
        }
      ],
      "source": [
        "from sklearn.linear_model import LogisticRegression\n",
        "from sklearn.metrics import accuracy_score, confusion_matrix, classification_report\n",
        "\n",
        "\n",
        "lrModel = LogisticRegression()\n",
        "lrModel.fit(xTrain, yTrain)\n",
        "yPredLr =lrModel.predict(xTest)\n",
        "\n",
        "\n",
        "print(\"🔍 Logistic Regression\")\n",
        "print(\"Accuracy:\", accuracy_score(yTest, yPredLr))\n",
        "print(\"Confusion Matrix:\\n\", confusion_matrix(yTest, yPredLr))\n",
        "print(\"Classification Report:\\n\", classification_report(yTest, yPredLr))"
      ]
    },
    {
      "cell_type": "code",
      "execution_count": 53,
      "metadata": {
        "colab": {
          "base_uri": "https://localhost:8080/"
        },
        "id": "TBANjhLgSWM_",
        "outputId": "2176e713-e338-413e-af69-9537e2115f8d"
      },
      "outputs": [
        {
          "name": "stdout",
          "output_type": "stream",
          "text": [
            "🔍 Support Vector Machine\n",
            "Accuracy: 0.8260869565217391\n",
            "Confusion Matrix:\n",
            " [[15  7]\n",
            " [ 1 23]]\n",
            "Classification Report:\n",
            "               precision    recall  f1-score   support\n",
            "\n",
            "           0       0.94      0.68      0.79        22\n",
            "           1       0.77      0.96      0.85        24\n",
            "\n",
            "    accuracy                           0.83        46\n",
            "   macro avg       0.85      0.82      0.82        46\n",
            "weighted avg       0.85      0.83      0.82        46\n",
            "\n"
          ]
        }
      ],
      "source": [
        "from sklearn.svm import SVC\n",
        "\n",
        "svmModel = SVC()\n",
        "svmModel.fit(xTrain, yTrain)\n",
        "yPredSvm = svmModel.predict(xTest)\n",
        "\n",
        "print(\"🔍 Support Vector Machine\")\n",
        "print(\"Accuracy:\", accuracy_score(yTest, yPredSvm))\n",
        "print(\"Confusion Matrix:\\n\", confusion_matrix(yTest, yPredSvm))\n",
        "print(\"Classification Report:\\n\", classification_report(yTest, yPredSvm))"
      ]
    },
    {
      "cell_type": "code",
      "execution_count": 54,
      "metadata": {
        "colab": {
          "base_uri": "https://localhost:8080/"
        },
        "id": "rig8lwavSjIn",
        "outputId": "1916cda5-8dcb-4bc0-d383-eac8a6021b73"
      },
      "outputs": [
        {
          "name": "stdout",
          "output_type": "stream",
          "text": [
            "🔍 Decision Tree (ID3)\n",
            "Accuracy: 0.717391304347826\n",
            "Confusion Matrix:\n",
            " [[16  6]\n",
            " [ 7 17]]\n",
            "Classification Report:\n",
            "               precision    recall  f1-score   support\n",
            "\n",
            "           0       0.70      0.73      0.71        22\n",
            "           1       0.74      0.71      0.72        24\n",
            "\n",
            "    accuracy                           0.72        46\n",
            "   macro avg       0.72      0.72      0.72        46\n",
            "weighted avg       0.72      0.72      0.72        46\n",
            "\n"
          ]
        }
      ],
      "source": [
        "from sklearn.tree import DecisionTreeClassifier\n",
        "\n",
        "treeModel = DecisionTreeClassifier(criterion='entropy')  # ID3 uses entropy\n",
        "treeModel.fit(xTrain, yTrain)\n",
        "yPredTree = treeModel.predict(xTest)\n",
        "\n",
        "print(\"🔍 Decision Tree (ID3)\")\n",
        "print(\"Accuracy:\", accuracy_score(yTest, yPredTree))\n",
        "print(\"Confusion Matrix:\\n\", confusion_matrix(yTest, yPredTree))\n",
        "print(\"Classification Report:\\n\", classification_report(yTest, yPredTree))\n"
      ]
    },
    {
      "cell_type": "code",
      "execution_count": 55,
      "metadata": {
        "colab": {
          "base_uri": "https://localhost:8080/"
        },
        "id": "4bn6qt9DSpFD",
        "outputId": "91ab6e12-e66b-4655-8488-6bf4cf8bc892"
      },
      "outputs": [
        {
          "name": "stdout",
          "output_type": "stream",
          "text": [
            "🔍 K-Nearest Neighbors (KNN)\n",
            "Accuracy: 0.8043478260869565\n",
            "Confusion Matrix:\n",
            " [[15  7]\n",
            " [ 2 22]]\n",
            "Classification Report:\n",
            "               precision    recall  f1-score   support\n",
            "\n",
            "           0       0.88      0.68      0.77        22\n",
            "           1       0.76      0.92      0.83        24\n",
            "\n",
            "    accuracy                           0.80        46\n",
            "   macro avg       0.82      0.80      0.80        46\n",
            "weighted avg       0.82      0.80      0.80        46\n",
            "\n"
          ]
        }
      ],
      "source": [
        "from sklearn.neighbors import KNeighborsClassifier\n",
        "\n",
        "knnModel = KNeighborsClassifier(n_neighbors=5)\n",
        "knnModel.fit(xTrain, yTrain)\n",
        "yPredKnn = knnModel.predict(xTest)\n",
        "\n",
        "print(\"🔍 K-Nearest Neighbors (KNN)\")\n",
        "print(\"Accuracy:\", accuracy_score(yTest, yPredKnn))\n",
        "print(\"Confusion Matrix:\\n\", confusion_matrix(yTest, yPredKnn))\n",
        "print(\"Classification Report:\\n\", classification_report(yTest, yPredKnn))\n"
      ]
    },
    {
      "cell_type": "code",
      "execution_count": 83,
      "metadata": {
        "colab": {
          "base_uri": "https://localhost:8080/"
        },
        "id": "RbEQeXCWXieM",
        "outputId": "4296e108-28bb-4636-ae3c-a8fa5ec9be41"
      },
      "outputs": [
        {
          "data": {
            "text/plain": [
              "['../models/heart_treeModel.pkl']"
            ]
          },
          "execution_count": 83,
          "metadata": {},
          "output_type": "execute_result"
        }
      ],
      "source": [
        "\n",
        "joblib.dump(svmModel, '../models/heart_svmModel.pkl')\n",
        "joblib.dump(lrModel, '../models/heart_lrModel.pkl')\n",
        "joblib.dump(knnModel, '../models/heart_knnModel.pkl')\n",
        "joblib.dump(treeModel, '../models/heart_treeModel.pkl')"
      ]
    },
    {
      "cell_type": "code",
      "execution_count": 76,
      "metadata": {
        "colab": {
          "base_uri": "https://localhost:8080/"
        },
        "id": "SqXCOlpwYt6j",
        "outputId": "dedd7148-7e10-48e1-bc00-ef5c8e934e84"
      },
      "outputs": [],
      "source": [
        "sample_inputs = [\n",
        "    # 🔴 Likely Heart Disease\n",
        "    [64, 1, 3, 150, 270, 0, 0, 135, 1, 2.9, 1, 2, 2],\n",
        "    [58, 0, 2, 130, 300, 0, 1, 128, 1, 2.5, 2, 1, 3],\n",
        "    [60, 1, 1, 140, 285, 1, 1, 120, 1, 3.0, 2, 2, 2],\n",
        "    [55, 1, 2, 150, 245, 0, 1, 132, 1, 2.8, 1, 1, 2],\n",
        "    [66, 1, 0, 160, 290, 1, 0, 110, 1, 2.6, 2, 3, 3],\n",
        "\n",
        "    # 🟢 Likely No Heart Disease\n",
        "    [44, 0, 1, 120, 210, 0, 1, 165, 0, 0.2, 1, 0, 2],\n",
        "    [36, 1, 0, 118, 190, 0, 0, 172, 0, 0.0, 1, 0, 2],\n",
        "    [47, 0, 1, 130, 225, 0, 0, 162, 0, 0.1, 2, 0, 2],\n",
        "    [39, 1, 0, 115, 198, 0, 0, 168, 0, 0.0, 1, 0, 2],\n",
        "    [43, 0, 1, 128, 215, 0, 0, 175, 0, 0.1, 1, 0, 2]\n",
        "]\n"
      ]
    },
    {
      "cell_type": "code",
      "execution_count": 79,
      "metadata": {},
      "outputs": [
        {
          "name": "stdout",
          "output_type": "stream",
          "text": [
            "[0 0 0 0 0 0 0 0 0 0]\n"
          ]
        },
        {
          "name": "stderr",
          "output_type": "stream",
          "text": [
            "c:\\Users\\acer\\AppData\\Local\\Programs\\Python\\Python313\\Lib\\site-packages\\sklearn\\utils\\validation.py:2739: UserWarning: X does not have valid feature names, but LogisticRegression was fitted with feature names\n",
            "  warnings.warn(\n"
          ]
        }
      ],
      "source": [
        "prediction1 = lrModel.predict(sample_inputs)\n",
        "print(prediction1)\n",
        "# print(\"Prediction:\", \"Heart Disease\" if prediction == 1 else \"No Heart Disease\")"
      ]
    },
    {
      "cell_type": "code",
      "execution_count": null,
      "metadata": {},
      "outputs": [
        {
          "name": "stdout",
          "output_type": "stream",
          "text": [
            "[0 0 0 0 0 0 0 0 0 0]\n"
          ]
        },
        {
          "name": "stderr",
          "output_type": "stream",
          "text": [
            "c:\\Users\\acer\\AppData\\Local\\Programs\\Python\\Python313\\Lib\\site-packages\\sklearn\\utils\\validation.py:2739: UserWarning: X does not have valid feature names, but SVC was fitted with feature names\n",
            "  warnings.warn(\n"
          ]
        }
      ],
      "source": [
        "prediction2 = svmModel.predict(sample_inputs) # type: ignore\n",
        "print(prediction2)\n",
        "# print(\"Prediction:\", \"Heart Disease\" if prediction == 1 else \"No Heart Disease\")"
      ]
    },
    {
      "cell_type": "code",
      "execution_count": 81,
      "metadata": {},
      "outputs": [
        {
          "name": "stdout",
          "output_type": "stream",
          "text": [
            "[1 0 1 1 0 1 0 1 0 1]\n"
          ]
        },
        {
          "name": "stderr",
          "output_type": "stream",
          "text": [
            "c:\\Users\\acer\\AppData\\Local\\Programs\\Python\\Python313\\Lib\\site-packages\\sklearn\\utils\\validation.py:2739: UserWarning: X does not have valid feature names, but DecisionTreeClassifier was fitted with feature names\n",
            "  warnings.warn(\n"
          ]
        }
      ],
      "source": [
        "prediction3 = treeModel.predict(sample_inputs)\n",
        "print(prediction3)\n",
        "# print(\"Prediction:\", \"Heart Disease\" if prediction == 1 else \"No Heart Disease\")"
      ]
    },
    {
      "cell_type": "code",
      "execution_count": null,
      "metadata": {},
      "outputs": [
        {
          "name": "stdout",
          "output_type": "stream",
          "text": [
            "[1 1 1 1 1 1 1 1 1 1]\n"
          ]
        },
        {
          "name": "stderr",
          "output_type": "stream",
          "text": [
            "c:\\Users\\acer\\AppData\\Local\\Programs\\Python\\Python313\\Lib\\site-packages\\sklearn\\utils\\validation.py:2739: UserWarning: X does not have valid feature names, but KNeighborsClassifier was fitted with feature names\n",
            "  warnings.warn(\n"
          ]
        }
      ],
      "source": [
        "prediction4 = knnModel.predict(sample_inputs) # type: ignore\n",
        "print(prediction4)\n",
        "# print(\"Prediction:\", \"Heart Disease\" if prediction == 1 else \"No Heart Disease\")"
      ]
    },
    {
      "cell_type": "code",
      "execution_count": null,
      "metadata": {},
      "outputs": [],
      "source": []
    }
  ],
  "metadata": {
    "colab": {
      "provenance": []
    },
    "kernelspec": {
      "display_name": "Python 3",
      "name": "python3"
    },
    "language_info": {
      "codemirror_mode": {
        "name": "ipython",
        "version": 3
      },
      "file_extension": ".py",
      "mimetype": "text/x-python",
      "name": "python",
      "nbconvert_exporter": "python",
      "pygments_lexer": "ipython3",
      "version": "3.13.3"
    }
  },
  "nbformat": 4,
  "nbformat_minor": 0
}
